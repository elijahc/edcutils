{
 "cells": [
  {
   "cell_type": "code",
   "execution_count": 1,
   "metadata": {},
   "outputs": [],
   "source": [
    "from src.datasets import nhamcs, namcs\n",
    "from src.datasets.nchs import topn"
   ]
  },
  {
   "cell_type": "code",
   "execution_count": 2,
   "metadata": {},
   "outputs": [
    {
     "name": "stderr",
     "output_type": "stream",
     "text": [
      "namcs2012-spss.sav: : 3it [00:03,  1.01s/it]\n",
      "opd2011-spss.sav: 100%|██████████| 2/2 [00:01<00:00,  1.93it/s]\n"
     ]
    },
    {
     "data": {
      "text/plain": [
       "DIAG1\n",
       "Routine infant or child health check               1912\n",
       "Acute upper respiratory infections of...            385\n",
       "Unspecified otitis media                            294\n",
       "Acute pharyngitis                                   193\n",
       "Asthma, unspecified without mention o...            162\n",
       "Attention deficit disorder with hyper...            118\n",
       "Unspecified sinusitis (chronic)                     100\n",
       "Allergic rhinitis cause unspecified                  96\n",
       "Health supervision for newborn 8 to 28 days old      94\n",
       "Unspecified viral infection                          92\n",
       "Unspecified cause                                    84\n",
       "Cough                                                74\n",
       "Bronchitis, not specified as acute or...             73\n",
       "Streptococcal sore throat                            72\n",
       "Fever and oth physio disturb of temp regu            71\n",
       "dtype: int64"
      ]
     },
     "execution_count": 2,
     "metadata": {},
     "output_type": "execute_result"
    }
   ],
   "source": [
    "opo = namcs.load_data(year=[2010,2011,2012])\n",
    "oph = nhamcs.load_opd(year=[2010,2011,2012])\n",
    "topn(opo,'DIAG1',query='SPECR == \"Pediatrics\"',n=15)"
   ]
  },
  {
   "cell_type": "code",
   "execution_count": 3,
   "metadata": {},
   "outputs": [
    {
     "data": {
      "text/plain": [
       "SPECR\n",
       "General/family practice      12767\n",
       "Pediatrics                    6817\n",
       "Internal medicine             4448\n",
       "Other specialties             4316\n",
       "Obstetrics and gynecology     3941\n",
       "dtype: int64"
      ]
     },
     "execution_count": 3,
     "metadata": {},
     "output_type": "execute_result"
    }
   ],
   "source": [
    "topn(opo,'SPECR')"
   ]
  },
  {
   "cell_type": "code",
   "execution_count": 4,
   "metadata": {},
   "outputs": [
    {
     "data": {
      "text/plain": [
       "CLINTYPE\n",
       "General medicine         23683\n",
       "Surgery                  15496\n",
       "Other                    10310\n",
       "Obstetrics/Gynecology     8795\n",
       "Pediatrics                7627\n",
       "dtype: int64"
      ]
     },
     "execution_count": 4,
     "metadata": {},
     "output_type": "execute_result"
    }
   ],
   "source": [
    "topn(oph,'CLINTYPE')"
   ]
  },
  {
   "cell_type": "code",
   "execution_count": 5,
   "metadata": {},
   "outputs": [
    {
     "data": {
      "text/plain": [
       "DIAG1\n",
       "Routine infant or child health check        1540\n",
       "Acute upper respiratory infections of...     262\n",
       "Asthma, unspecified without mention o...     226\n",
       "Attention deficit disorder with hyper...     164\n",
       "Unspecified otitis media                     143\n",
       "Diabetes mellitus w/o complication, t...     126\n",
       "Allergic rhinitis cause unspecified           88\n",
       "Constipation, unspecified                     79\n",
       "Extrinsic asthma without mention of s...      77\n",
       "Sickle-cell anemia, unspecified               77\n",
       "Infantile autism, current or active s...      75\n",
       "Other atopic dermatitis and related c...      75\n",
       "Acute pharyngitis                             72\n",
       "Unspecified cause                             72\n",
       "Blank                                         69\n",
       "dtype: int64"
      ]
     },
     "execution_count": 5,
     "metadata": {},
     "output_type": "execute_result"
    }
   ],
   "source": [
    "topn(oph, 'DIAG1',query='CLINTYPE == \"Pediatrics\"',n=15)"
   ]
  },
  {
   "cell_type": "code",
   "execution_count": 14,
   "metadata": {},
   "outputs": [
    {
     "data": {
      "text/plain": [
       "DIAG1\n",
       "Routine infant or child health check        1540\n",
       "Acute upper respiratory infections of...     262\n",
       "Asthma, unspecified without mention o...     226\n",
       "Attention deficit disorder with hyper...     164\n",
       "Unspecified otitis media                     143\n",
       "dtype: int64"
      ]
     },
     "execution_count": 14,
     "metadata": {},
     "output_type": "execute_result"
    }
   ],
   "source": [
    "topn(oph,'DIAG1',query='CLINTYPE == \"Pediatrics\"')"
   ]
  },
  {
   "cell_type": "code",
   "execution_count": 16,
   "metadata": {},
   "outputs": [
    {
     "data": {
      "text/plain": [
       "AGER\n",
       "Under 15 years       6727\n",
       "15-24 years           850\n",
       "25-44 years            37\n",
       "45-64 years             9\n",
       "75 years and over       2\n",
       "dtype: int64"
      ]
     },
     "execution_count": 16,
     "metadata": {},
     "output_type": "execute_result"
    }
   ],
   "source": [
    "topn(oph,'AGER',query='CLINTYPE==\"Pediatrics\"')"
   ]
  },
  {
   "cell_type": "code",
   "execution_count": 7,
   "metadata": {},
   "outputs": [
    {
     "data": {
      "text/plain": [
       "['namcs2010-spss.zip', 'namcs2011-spss.zip']"
      ]
     },
     "execution_count": 7,
     "metadata": {},
     "output_type": "execute_result"
    }
   ],
   "source": [
    "namcs._remote_sel(year=[2011,2010])"
   ]
  },
  {
   "cell_type": "code",
   "execution_count": 8,
   "metadata": {},
   "outputs": [],
   "source": [
    "# namcs.load_data(year=[2011])"
   ]
  },
  {
   "cell_type": "code",
   "execution_count": null,
   "metadata": {},
   "outputs": [],
   "source": []
  },
  {
   "cell_type": "code",
   "execution_count": 9,
   "metadata": {},
   "outputs": [
    {
     "name": "stderr",
     "output_type": "stream",
     "text": [
      "opd2011-spss.sav: 100%|██████████| 2/2 [00:01<00:00,  1.82it/s]\n"
     ]
    },
    {
     "data": {
      "text/html": [
       "<div>\n",
       "<style scoped>\n",
       "    .dataframe tbody tr th:only-of-type {\n",
       "        vertical-align: middle;\n",
       "    }\n",
       "\n",
       "    .dataframe tbody tr th {\n",
       "        vertical-align: top;\n",
       "    }\n",
       "\n",
       "    .dataframe thead th {\n",
       "        text-align: right;\n",
       "    }\n",
       "</style>\n",
       "<table border=\"1\" class=\"dataframe\">\n",
       "  <thead>\n",
       "    <tr style=\"text-align: right;\">\n",
       "      <th></th>\n",
       "      <th>AGE</th>\n",
       "      <th>SEX</th>\n",
       "      <th>RFV1</th>\n",
       "      <th>RFV13D</th>\n",
       "      <th>MAJOR</th>\n",
       "      <th>DIAG1</th>\n",
       "      <th>DIAG13D</th>\n",
       "      <th>REGION</th>\n",
       "      <th>CLINTYPE</th>\n",
       "      <th>AGER</th>\n",
       "      <th>SETTYPE</th>\n",
       "      <th>YEAR</th>\n",
       "    </tr>\n",
       "  </thead>\n",
       "  <tbody>\n",
       "    <tr>\n",
       "      <th>0</th>\n",
       "      <td>1</td>\n",
       "      <td>Male</td>\n",
       "      <td>Ear infection</td>\n",
       "      <td>Earache, or ear infection</td>\n",
       "      <td>Preventive care</td>\n",
       "      <td>Nonsuppurative otitis media, not spec...</td>\n",
       "      <td>(381) Nonsuppurative otitis media and...</td>\n",
       "      <td>Midwest</td>\n",
       "      <td>Surgery</td>\n",
       "      <td>Under 15 years</td>\n",
       "      <td>NHAMCS - OPD</td>\n",
       "      <td>2010.0</td>\n",
       "    </tr>\n",
       "    <tr>\n",
       "      <th>1</th>\n",
       "      <td>6</td>\n",
       "      <td>Male</td>\n",
       "      <td>Progress visit, NOS</td>\n",
       "      <td>Progress visit, NOS</td>\n",
       "      <td>Chronic problem, routine</td>\n",
       "      <td>Allergic rhinitis cause unspecified</td>\n",
       "      <td>(477) Allergic rhinitis</td>\n",
       "      <td>Midwest</td>\n",
       "      <td>General medicine</td>\n",
       "      <td>Under 15 years</td>\n",
       "      <td>NHAMCS - OPD</td>\n",
       "      <td>2010.0</td>\n",
       "    </tr>\n",
       "    <tr>\n",
       "      <th>2</th>\n",
       "      <td>Under one year</td>\n",
       "      <td>Female</td>\n",
       "      <td>Ear infection</td>\n",
       "      <td>Earache, or ear infection</td>\n",
       "      <td>Chronic problem, routine</td>\n",
       "      <td>Nonsuppurative otitis media, not spec...</td>\n",
       "      <td>(381) Nonsuppurative otitis media and...</td>\n",
       "      <td>Midwest</td>\n",
       "      <td>Surgery</td>\n",
       "      <td>Under 15 years</td>\n",
       "      <td>NHAMCS - OPD</td>\n",
       "      <td>2010.0</td>\n",
       "    </tr>\n",
       "    <tr>\n",
       "      <th>3</th>\n",
       "      <td>20</td>\n",
       "      <td>Female</td>\n",
       "      <td>Streptococcal infection</td>\n",
       "      <td>Streptococcal infection</td>\n",
       "      <td>Preventive care</td>\n",
       "      <td>Chronic tonsillitis</td>\n",
       "      <td>(474) Chronic disease of tonsils and ...</td>\n",
       "      <td>Midwest</td>\n",
       "      <td>Surgery</td>\n",
       "      <td>15-24 years</td>\n",
       "      <td>NHAMCS - OPD</td>\n",
       "      <td>2010.0</td>\n",
       "    </tr>\n",
       "    <tr>\n",
       "      <th>4</th>\n",
       "      <td>2</td>\n",
       "      <td>Male</td>\n",
       "      <td>Asthma</td>\n",
       "      <td>Asthma</td>\n",
       "      <td>Chronic problem, flare-up</td>\n",
       "      <td>Allergic rhinitis cause unspecified</td>\n",
       "      <td>(477) Allergic rhinitis</td>\n",
       "      <td>Midwest</td>\n",
       "      <td>General medicine</td>\n",
       "      <td>Under 15 years</td>\n",
       "      <td>NHAMCS - OPD</td>\n",
       "      <td>2010.0</td>\n",
       "    </tr>\n",
       "  </tbody>\n",
       "</table>\n",
       "</div>"
      ],
      "text/plain": [
       "              AGE     SEX                     RFV1                     RFV13D  \\\n",
       "0               1    Male            Ear infection  Earache, or ear infection   \n",
       "1               6    Male      Progress visit, NOS        Progress visit, NOS   \n",
       "2  Under one year  Female            Ear infection  Earache, or ear infection   \n",
       "3              20  Female  Streptococcal infection    Streptococcal infection   \n",
       "4               2    Male                   Asthma                     Asthma   \n",
       "\n",
       "                       MAJOR                                     DIAG1  \\\n",
       "0            Preventive care  Nonsuppurative otitis media, not spec...   \n",
       "1   Chronic problem, routine       Allergic rhinitis cause unspecified   \n",
       "2   Chronic problem, routine  Nonsuppurative otitis media, not spec...   \n",
       "3            Preventive care                       Chronic tonsillitis   \n",
       "4  Chronic problem, flare-up       Allergic rhinitis cause unspecified   \n",
       "\n",
       "                                    DIAG13D   REGION          CLINTYPE  \\\n",
       "0  (381) Nonsuppurative otitis media and...  Midwest           Surgery   \n",
       "1                   (477) Allergic rhinitis  Midwest  General medicine   \n",
       "2  (381) Nonsuppurative otitis media and...  Midwest           Surgery   \n",
       "3  (474) Chronic disease of tonsils and ...  Midwest           Surgery   \n",
       "4                   (477) Allergic rhinitis  Midwest  General medicine   \n",
       "\n",
       "             AGER       SETTYPE    YEAR  \n",
       "0  Under 15 years  NHAMCS - OPD  2010.0  \n",
       "1  Under 15 years  NHAMCS - OPD  2010.0  \n",
       "2  Under 15 years  NHAMCS - OPD  2010.0  \n",
       "3     15-24 years  NHAMCS - OPD  2010.0  \n",
       "4  Under 15 years  NHAMCS - OPD  2010.0  "
      ]
     },
     "execution_count": 9,
     "metadata": {},
     "output_type": "execute_result"
    }
   ],
   "source": [
    "opd = nhamcs.load_opd(year=[2010,2011])\n",
    "opd.head()"
   ]
  },
  {
   "cell_type": "code",
   "execution_count": 10,
   "metadata": {},
   "outputs": [
    {
     "data": {
      "text/plain": [
       "CLINTYPE\n",
       "General medicine         23683\n",
       "Surgery                  15496\n",
       "Other                    10310\n",
       "Obstetrics/Gynecology     8795\n",
       "Pediatrics                7627\n",
       "Substance abuse           1040\n",
       "dtype: int64"
      ]
     },
     "execution_count": 10,
     "metadata": {},
     "output_type": "execute_result"
    }
   ],
   "source": [
    "topn(opd,'CLINTYPE',n=15)"
   ]
  },
  {
   "cell_type": "code",
   "execution_count": 11,
   "metadata": {},
   "outputs": [
    {
     "name": "stderr",
     "output_type": "stream",
     "text": [
      "ed2017-spss.sav: 100%|██████████| 1/1 [00:00<00:00,  1.99it/s]\n"
     ]
    },
    {
     "data": {
      "text/html": [
       "<div>\n",
       "<style scoped>\n",
       "    .dataframe tbody tr th:only-of-type {\n",
       "        vertical-align: middle;\n",
       "    }\n",
       "\n",
       "    .dataframe tbody tr th {\n",
       "        vertical-align: top;\n",
       "    }\n",
       "\n",
       "    .dataframe thead th {\n",
       "        text-align: right;\n",
       "    }\n",
       "</style>\n",
       "<table border=\"1\" class=\"dataframe\">\n",
       "  <thead>\n",
       "    <tr style=\"text-align: right;\">\n",
       "      <th></th>\n",
       "      <th>AGE</th>\n",
       "      <th>AGER</th>\n",
       "      <th>SEX</th>\n",
       "      <th>RFV1</th>\n",
       "      <th>RFV13D</th>\n",
       "      <th>DIAG1</th>\n",
       "      <th>REGION</th>\n",
       "      <th>SETTYPE</th>\n",
       "      <th>YEAR</th>\n",
       "      <th>SPECCAT</th>\n",
       "    </tr>\n",
       "  </thead>\n",
       "  <tbody>\n",
       "    <tr>\n",
       "      <th>0</th>\n",
       "      <td>27</td>\n",
       "      <td>25-44 years</td>\n",
       "      <td>Male</td>\n",
       "      <td>Laceration/cut of lower extremity</td>\n",
       "      <td>Lower extremity lacerations and cuts</td>\n",
       "      <td>Open wound of knee</td>\n",
       "      <td>Northeast</td>\n",
       "      <td>NHAMCS - ED</td>\n",
       "      <td>2017.0</td>\n",
       "      <td>Emergency Medicine</td>\n",
       "    </tr>\n",
       "    <tr>\n",
       "      <th>1</th>\n",
       "      <td>1</td>\n",
       "      <td>Under 15 years</td>\n",
       "      <td>Female</td>\n",
       "      <td>Cough</td>\n",
       "      <td>Cough</td>\n",
       "      <td>Acute bronchitis, unspecified</td>\n",
       "      <td>Northeast</td>\n",
       "      <td>NHAMCS - ED</td>\n",
       "      <td>2017.0</td>\n",
       "      <td>Emergency Medicine</td>\n",
       "    </tr>\n",
       "    <tr>\n",
       "      <th>2</th>\n",
       "      <td>52</td>\n",
       "      <td>45-64 years</td>\n",
       "      <td>Male</td>\n",
       "      <td>Abdominal pain, cramps, spasms, NOS</td>\n",
       "      <td>Stomach and abdominal pain, cramps an...</td>\n",
       "      <td>Patient left before being seen, 'walked out', ...</td>\n",
       "      <td>Northeast</td>\n",
       "      <td>NHAMCS - ED</td>\n",
       "      <td>2017.0</td>\n",
       "      <td>Emergency Medicine</td>\n",
       "    </tr>\n",
       "    <tr>\n",
       "      <th>3</th>\n",
       "      <td>5</td>\n",
       "      <td>Under 15 years</td>\n",
       "      <td>Male</td>\n",
       "      <td>Cough</td>\n",
       "      <td>Cough</td>\n",
       "      <td>Acute obstructive laryngitis [croup]</td>\n",
       "      <td>Northeast</td>\n",
       "      <td>NHAMCS - ED</td>\n",
       "      <td>2017.0</td>\n",
       "      <td>Emergency Medicine</td>\n",
       "    </tr>\n",
       "    <tr>\n",
       "      <th>4</th>\n",
       "      <td>4</td>\n",
       "      <td>Under 15 years</td>\n",
       "      <td>Female</td>\n",
       "      <td>Injury, other and unspecified, of han...</td>\n",
       "      <td>Hand and finger(s) injury, type unspe...</td>\n",
       "      <td>Crushing injury of hand</td>\n",
       "      <td>Northeast</td>\n",
       "      <td>NHAMCS - ED</td>\n",
       "      <td>2017.0</td>\n",
       "      <td>Emergency Medicine</td>\n",
       "    </tr>\n",
       "  </tbody>\n",
       "</table>\n",
       "</div>"
      ],
      "text/plain": [
       "  AGE            AGER     SEX                                      RFV1  \\\n",
       "0  27     25-44 years    Male         Laceration/cut of lower extremity   \n",
       "1   1  Under 15 years  Female                                     Cough   \n",
       "2  52     45-64 years    Male       Abdominal pain, cramps, spasms, NOS   \n",
       "3   5  Under 15 years    Male                                     Cough   \n",
       "4   4  Under 15 years  Female  Injury, other and unspecified, of han...   \n",
       "\n",
       "                                     RFV13D  \\\n",
       "0      Lower extremity lacerations and cuts   \n",
       "1                                     Cough   \n",
       "2  Stomach and abdominal pain, cramps an...   \n",
       "3                                     Cough   \n",
       "4  Hand and finger(s) injury, type unspe...   \n",
       "\n",
       "                                               DIAG1     REGION      SETTYPE  \\\n",
       "0                                 Open wound of knee  Northeast  NHAMCS - ED   \n",
       "1                      Acute bronchitis, unspecified  Northeast  NHAMCS - ED   \n",
       "2  Patient left before being seen, 'walked out', ...  Northeast  NHAMCS - ED   \n",
       "3               Acute obstructive laryngitis [croup]  Northeast  NHAMCS - ED   \n",
       "4                            Crushing injury of hand  Northeast  NHAMCS - ED   \n",
       "\n",
       "     YEAR             SPECCAT  \n",
       "0  2017.0  Emergency Medicine  \n",
       "1  2017.0  Emergency Medicine  \n",
       "2  2017.0  Emergency Medicine  \n",
       "3  2017.0  Emergency Medicine  \n",
       "4  2017.0  Emergency Medicine  "
      ]
     },
     "execution_count": 11,
     "metadata": {},
     "output_type": "execute_result"
    }
   ],
   "source": [
    "ed = nhamcs.load_ed()\n",
    "ed.head()"
   ]
  }
 ],
 "metadata": {
  "kernelspec": {
   "display_name": "Python 3",
   "language": "python",
   "name": "python3"
  },
  "language_info": {
   "codemirror_mode": {
    "name": "ipython",
    "version": 3
   },
   "file_extension": ".py",
   "mimetype": "text/x-python",
   "name": "python",
   "nbconvert_exporter": "python",
   "pygments_lexer": "ipython3",
   "version": "3.5.3"
  }
 },
 "nbformat": 4,
 "nbformat_minor": 4
}
