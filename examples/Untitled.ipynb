{
 "cells": [
  {
   "cell_type": "code",
   "execution_count": 11,
   "metadata": {},
   "outputs": [],
   "source": [
    "from src.datasets import namcs,nhamcs\n",
    "from src.datasets.nchs import topn\n",
    "import seaborn as sns\n",
    "import numpy as np\n",
    "import matplotlib.pyplot as plt"
   ]
  },
  {
   "cell_type": "code",
   "execution_count": 13,
   "metadata": {},
   "outputs": [
    {
     "name": "stderr",
     "output_type": "stream",
     "text": [
      "namcs2012-spss.sav:  33%|███▎      | 1/3 [00:01<00:03,  1.77s/it]"
     ]
    },
    {
     "name": "stdout",
     "output_type": "stream",
     "text": [
      "Downloading data from ftp://ftp.cdc.gov/pub/Health_Statistics/NCHS/dataset_documentation/namcs/spss/namcs2013-spss.zip\n",
      "6987776/Unknown - 2s 0us/step"
     ]
    },
    {
     "name": "stderr",
     "output_type": "stream",
     "text": [
      "namcs2013-spss.sav:  67%|██████▋   | 2/3 [00:05<00:02,  2.47s/it]"
     ]
    },
    {
     "name": "stdout",
     "output_type": "stream",
     "text": [
      "Downloading data from ftp://ftp.cdc.gov/pub/Health_Statistics/NCHS/dataset_documentation/namcs/spss/namcs2014-spss.zip\n",
      "7675904/Unknown - 3s 0us/step"
     ]
    },
    {
     "name": "stderr",
     "output_type": "stream",
     "text": [
      "namcs2014-spss.sav: 100%|██████████| 3/3 [00:10<00:00,  3.55s/it]\n"
     ]
    }
   ],
   "source": [
    "off = namcs.load_data(year=np.arange(3)+2012)"
   ]
  },
  {
   "cell_type": "code",
   "execution_count": 18,
   "metadata": {},
   "outputs": [
    {
     "data": {
      "text/plain": [
       "RFV1\n",
       "Progress visit, NOS                         671\n",
       "Depression                                  619\n",
       "Medication, other and unspecified kinds     587\n",
       "Anxiety and nervousness                     460\n",
       "Oth symptoms/problems relat to psycho...    232\n",
       "Functional psychoses                        203\n",
       "Other and unspecified mental disorders      166\n",
       "Blank                                       144\n",
       "Psychotherapy                               105\n",
       "Medical counseling, NOS                      86\n",
       "General psychiatric or psychological ...     77\n",
       "General medical examination                  67\n",
       "Drug dependence                              48\n",
       "Insomnia                                     28\n",
       "Neuroses                                     28\n",
       "dtype: int64"
      ]
     },
     "execution_count": 18,
     "metadata": {},
     "output_type": "execute_result"
    }
   ],
   "source": [
    "op_psych = off.query('SPECR == \"Psychiatry\"')\n",
    "topn(op_psych,'RFV1',n=15)"
   ]
  },
  {
   "cell_type": "code",
   "execution_count": 8,
   "metadata": {},
   "outputs": [
    {
     "name": "stderr",
     "output_type": "stream",
     "text": [
      "ed2016-spss.sav: 100%|██████████| 2/2 [00:01<00:00,  1.55it/s]\n"
     ]
    }
   ],
   "source": [
    "ed = nhamcs.load_ed(year=[2015,2016])"
   ]
  },
  {
   "cell_type": "code",
   "execution_count": null,
   "metadata": {},
   "outputs": [],
   "source": []
  }
 ],
 "metadata": {
  "kernelspec": {
   "display_name": "Python 3",
   "language": "python",
   "name": "python3"
  },
  "language_info": {
   "codemirror_mode": {
    "name": "ipython",
    "version": 3
   },
   "file_extension": ".py",
   "mimetype": "text/x-python",
   "name": "python",
   "nbconvert_exporter": "python",
   "pygments_lexer": "ipython3",
   "version": "3.5.3"
  }
 },
 "nbformat": 4,
 "nbformat_minor": 4
}
